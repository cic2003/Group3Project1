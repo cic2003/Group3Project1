{
 "cells": [
  {
   "cell_type": "code",
   "execution_count": 17,
   "metadata": {},
   "outputs": [],
   "source": [
    "import json\n",
    "import os"
   ]
  },
  {
   "cell_type": "code",
   "execution_count": 18,
   "metadata": {},
   "outputs": [
    {
     "name": "stdout",
     "output_type": "stream",
     "text": [
      "['Cleanup_census_data.ipynb', 'Family Scatter Plot.ipynb', 'Homeless_Vets_Available_Beds.ipynb', 'Homelessness in the US .ipynb', 'Homelessness in the USChidima .ipynb', 'Merge_Veterans_info.ipynb', 'Merged Homelessness Group 3 Master.ipynb', 'Regional Types Scatter Plot.ipynb', 'Regional Types of Homelessness.ipynb', 'Unacompanied_Minors_Youth.ipynb', 'Under 18 Youth Scatter Plot.ipynb', 'Veteran Scatter Plot.ipynb', 'Youth (Under 18) Scatter Plot.ipynb', 'combined.ipynb']\n"
     ]
    }
   ],
   "source": [
    "#generate list of files to be merged\n",
    "notebooks_to_merge = [file for file in os.listdir(os.getcwd()) if file.endswith('.ipynb')]\n",
    "\n",
    "notebooks_to_merge.sort()\n",
    "\n",
    "print(notebooks_to_merge)"
   ]
  },
  {
   "cell_type": "code",
   "execution_count": 19,
   "metadata": {},
   "outputs": [
    {
     "name": "stdout",
     "output_type": "stream",
     "text": [
      "Generated file: \"combined.ipynb\". \n"
     ]
    },
    {
     "data": {
      "text/plain": [
       "'/Users/julia/LearnPython/NUCHI201905DATA2/Group3Project1/combined.ipynb'"
      ]
     },
     "execution_count": 19,
     "metadata": {},
     "output_type": "execute_result"
    }
   ],
   "source": [
    "def combine_ipynb_files(list_of_notebooks, combined_file_name):\n",
    "    \n",
    "    with open (notebooks_to_merge[0], mode = 'r', encoding = 'utf-8') as f:\n",
    "        a = json.load(f)\n",
    "        \n",
    "    for notebook in notebooks_to_merge[1:]:\n",
    "        with open(notebook, mode = 'r', encoding = 'utf-8') as f:\n",
    "             b = json.load(f)\n",
    "        a['cells'].extend (b['cells'])\n",
    "                \n",
    "    with open (combined_file_name, mode = 'w', encoding = 'utf-8') as f:\n",
    "        json.dump(a, f)  \n",
    "        \n",
    "    print('Generated file: \"{}\". '.format(combined_file_name))\n",
    "    \n",
    "    return(os.path.realpath(combined_file_name))\n",
    "\n",
    "combine_ipynb_files(notebooks_to_merge, \"combined.ipynb\")"
   ]
  },
  {
   "cell_type": "code",
   "execution_count": null,
   "metadata": {},
   "outputs": [],
   "source": []
  }
 ],
 "metadata": {
  "kernelspec": {
   "display_name": "Python 3",
   "language": "python",
   "name": "python3"
  },
  "language_info": {
   "codemirror_mode": {
    "name": "ipython",
    "version": 3
   },
   "file_extension": ".py",
   "mimetype": "text/x-python",
   "name": "python",
   "nbconvert_exporter": "python",
   "pygments_lexer": "ipython3",
   "version": "3.7.3"
  }
 },
 "nbformat": 4,
 "nbformat_minor": 2
}
